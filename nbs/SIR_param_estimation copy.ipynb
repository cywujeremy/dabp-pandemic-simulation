{
 "cells": [
  {
   "cell_type": "markdown",
   "metadata": {},
   "source": [
    "### **SIR Model Parameters Estimation**"
   ]
  },
  {
   "cell_type": "code",
   "execution_count": 1,
   "metadata": {},
   "outputs": [],
   "source": [
    "import numpy as np\n",
    "from scipy.integrate import odeint\n",
    "import matplotlib.pyplot as plt\n",
    "from tqdm import tqdm\n"
   ]
  },
  {
   "cell_type": "code",
   "execution_count": 77,
   "metadata": {},
   "outputs": [
    {
     "data": {
      "image/png": "[encoded data removed]",
      "text/plain": [
       "<Figure size 432x288 with 1 Axes>"
      ]
     },
     "metadata": {},
     "output_type": "display_data"
    }
   ],
   "source": [
    "### ------------------- Parameters to Vary ------------------- ###\n",
    "\n",
    "# lambda: number of people that a susceptible person interacts with per time step\n",
    "# p: probability of getting infected if a susceptible person interacts with an infectious person\n",
    "# gamma: recovery rate (recovery probability within one time step)\n",
    "gamma = 1./14 # set lam = 2 vs 20, p = 0.3, gamma = 1/14\n",
    "\n",
    "### ------------------- Fixed Parameters ------------------- ###\n",
    "\n",
    "# Total population.\n",
    "N = 300000000\n",
    "\n",
    "# A grid of time points (in days) for the detecting period\n",
    "t_set = np.linspace(0, 365, 366)\n",
    "\n",
    "# Initial number of infected and immune individuals, I0 and R0.\n",
    "I0, R0 = 10, 0\n",
    "\n",
    "# Everyone else, S0, is susceptible to infection initially.\n",
    "S0 = N - I0 - R0\n",
    "\n",
    "# The SIR model differential equations.\n",
    "def deriv_dynamic(y, t, N, beta, gamma):\n",
    "    S, I, R = y\n",
    "    dSdt = -beta(t) * S * I / N\n",
    "    dIdt = beta(t) * S * I / N - gamma * I\n",
    "    dRdt = gamma * I\n",
    "    return dSdt, dIdt, dRdt\n",
    "\n",
    "x = np.linspace(0, 365, 366)\n",
    "\n",
    "r0_true = np.array([1, 1.2, 1.4, 1.3, 1.2, 1.2, 1, 1, 0.5, 0.5])\n",
    "\n",
    "def random_beta(t):\n",
    "        \n",
    "    if t < 36:\n",
    "        return r0_true[0]\n",
    "    if 36 <= t < 72:\n",
    "        return r0_true[1]\n",
    "    if 72 <= t < 108:\n",
    "        return r0_true[2]\n",
    "    if 108 <= t < 144:\n",
    "        return r0_true[3]\n",
    "    if 144 <= t < 180:\n",
    "        return r0_true[4]\n",
    "    if 180 <= t < 216:\n",
    "        return r0_true[5]\n",
    "    if 216 <= t < 248:\n",
    "        return r0_true[6]\n",
    "    if 248 <= t < 284:\n",
    "        return r0_true[7]\n",
    "    if 284 <= t < 320:\n",
    "        return r0_true[8]\n",
    "    if t > 320:\n",
    "        return r0_true[9]\n",
    "\n",
    "\n",
    "### ----------------- Dynamic Parameters ----------------- ###\n",
    "\n",
    "# Initial conditions vector\n",
    "y0 = S0, I0, R0\n",
    "# Integrate the SIR equations over the time grid, t.\n",
    "ret = odeint(deriv_dynamic, y0, t_set, args=(N, random_beta, gamma))\n",
    "S_syn, I_syn, R_syn = ret.T\n",
    "\n",
    "# Plot the data on three separate curves for S(t), I(t) and R(t)\n",
    "fig = plt.figure(facecolor='w')\n",
    "ax = fig.add_subplot(111, facecolor='#dddddd', axisbelow=True)\n",
    "ax.plot(t_set, S_syn/N, 'b', alpha=0.5, lw=2, label='Susceptible')\n",
    "ax.plot(t_set, I_syn/N, 'r', alpha=0.5, lw=2, label='Infected')\n",
    "ax.plot(t_set, R_syn/N, 'g', alpha=0.5, lw=2, label='Recovered/Removed')\n",
    "ax.set_xlabel('Time /days')\n",
    "ax.set_ylabel('Percentage of Population')\n",
    "ax.set_ylim(0,1.2)\n",
    "ax.yaxis.set_tick_params(length=0)\n",
    "ax.xaxis.set_tick_params(length=0)\n",
    "ax.grid(b=True, which='major', c='w', lw=2, ls='-')\n",
    "legend = ax.legend()\n",
    "legend.get_frame().set_alpha(0.5)\n",
    "for spine in ('top', 'right', 'bottom', 'left'):\n",
    "    ax.spines[spine].set_visible(False)\n",
    "plt.show()"
   ]
  },
  {
   "cell_type": "code",
   "execution_count": 36,
   "metadata": {},
   "outputs": [],
   "source": [
    "from sklearn.metrics import mean_absolute_error, mean_squared_error\n",
    "import scipy.optimize as optimize\n",
    "import torch\n",
    "import torch.nn.functional as F"
   ]
  },
  {
   "cell_type": "code",
   "execution_count": 43,
   "metadata": {},
   "outputs": [],
   "source": [
    "class Sigmoid:\n",
    "    \n",
    "    def forward(self, Z):\n",
    "    \n",
    "        self.A = 1 / (1 + np.exp(-Z)) # TODO\n",
    "        \n",
    "        return self.A\n",
    "    \n",
    "    def backward(self):\n",
    "    \n",
    "        dAdZ = self.A * (1 - self.A) # TODO\n",
    "        \n",
    "        return dAdZ\n",
    "\n",
    "sigmoid = Sigmoid()"
   ]
  },
  {
   "cell_type": "code",
   "execution_count": 100,
   "metadata": {},
   "outputs": [
    {
     "name": "stdout",
     "output_type": "stream",
     "text": [
      "[5.63679696e-01 1.24874823e+00 1.83261210e+00 7.63258971e-01\n",
      " 9.29555998e-01 1.11069988e+00 1.23805949e+00 4.07160561e-01\n",
      " 3.02511863e-01 7.91145782e-01 9.03156196e-01 1.41725726e+00\n",
      " 1.43796985e+00 1.87894645e+00 1.66486896e+00 9.81332010e-01\n",
      " 1.34218506e+00 1.04871179e+00 1.54980708e+00 6.97659038e-01\n",
      " 3.77721686e-04 1.20030564e+00 1.81960138e-01 2.98832394e-01]\n"
     ]
    }
   ],
   "source": [
    "# est_R_0 = np.array([0.5] * 10)\n",
    "weights = np.random.random(size=(24,)) * 2\n",
    "print(weights)\n",
    "t_set = np.linspace(0, 365, 366)\n",
    "\n",
    "def loss_func(weights, I_true):\n",
    "    \n",
    "    weights = np.abs(weights)\n",
    "    # est_R_0 = np.abs(est_R_0)\n",
    "    # weights = np.abs(weights)\n",
    "    w1 = weights[:4]\n",
    "    w2 = weights[4:20].reshape((4, 4))\n",
    "    w3 = weights[20:]\n",
    "    \n",
    "    def random_beta(t):\n",
    "        \n",
    "        out = np.dot(w1, t)\n",
    "        out = sigmoid.forward(out)\n",
    "        out = np.dot(w2, out)\n",
    "        out = sigmoid.forward(out)\n",
    "        out = np.dot(w3, out)\n",
    "        \n",
    "        return out\n",
    "    \n",
    "    def deriv_dynamic(y, t, N, beta, gamma):\n",
    "        S, I, R = y\n",
    "        dSdt = - beta(t) * S * I / N\n",
    "        dIdt = beta(t) * S * I / N - gamma * I\n",
    "        dRdt = gamma * I\n",
    "        return dSdt, dIdt, dRdt\n",
    "    \n",
    "    ret = odeint(deriv_dynamic, y0, t_set, args=(N, random_beta, gamma))\n",
    "    _, I, _ = ret.T\n",
    "    \n",
    "    loss = mean_absolute_error(I_true, I)\n",
    "    \n",
    "    return loss\n"
   ]
  },
  {
   "cell_type": "code",
   "execution_count": 101,
   "metadata": {},
   "outputs": [
    {
     "name": "stdout",
     "output_type": "stream",
     "text": [
      "Warning: Desired error not necessarily achieved due to precision loss.\n",
      "         Current function value: 6176.345952\n",
      "         Iterations: 11\n",
      "         Function evaluations: 2958\n",
      "         Gradient evaluations: 118\n",
      "[ 6.76195700e-01  1.52206313e+00  2.05631195e+00  1.13636159e+00\n",
      "  8.13910562e-01  1.04545463e+00  1.18967388e+00  3.42941270e-01\n",
      " -3.12698158e-05  7.90633609e-01  1.00370783e+00  1.35622378e+00\n",
      "  1.49985979e+00  1.95589157e+00  1.74841067e+00  1.05299448e+00\n",
      "  1.36711854e+00  1.07964835e+00  1.58335412e+00  7.26890699e-01\n",
      " -1.78513515e-01  5.82783287e-01 -2.32615209e-01 -4.07164881e-02]\n"
     ]
    }
   ],
   "source": [
    "optimizer = optimize.minimize(loss_func, weights, args=(I_syn,), options={'maxiter': 100, 'disp': True})\n",
    "\n",
    "print(optimizer.x)"
   ]
  },
  {
   "cell_type": "code",
   "execution_count": 104,
   "metadata": {},
   "outputs": [],
   "source": [
    "weights_pred = np.abs(optimizer.x)\n",
    "# weights_pred = optimizer.x\n",
    "w1 = weights_pred[:4]\n",
    "w2 = weights_pred[4:20].reshape((4, 4))\n",
    "w3 = weights_pred[20:]\n",
    "    \n",
    "def random_beta(t):\n",
    "    \n",
    "    out = np.dot(w1, t)\n",
    "    out = sigmoid.forward(out)\n",
    "    out = np.dot(w2, out)\n",
    "    out = sigmoid.forward(out)\n",
    "    out = np.dot(w3, out)\n",
    "    \n",
    "    return out\n",
    "\n",
    "r0_pred = np.array([random_beta(t) for t in range(366)])"
   ]
  },
  {
   "cell_type": "code",
   "execution_count": 105,
   "metadata": {},
   "outputs": [
    {
     "data": {
      "text/plain": [
       "[<matplotlib.lines.Line2D at 0x203cb732788>]"
      ]
     },
     "execution_count": 105,
     "metadata": {},
     "output_type": "execute_result"
    },
    {
     "data": {
      "image/png": "[encoded data removed]",
      "text/plain": [
       "<Figure size 432x288 with 1 Axes>"
      ]
     },
     "metadata": {
      "needs_background": "light"
     },
     "output_type": "display_data"
    }
   ],
   "source": [
    "import matplotlib.pyplot as plt\n",
    "\n",
    "plt.plot(list(range(366)), r0_pred)"
   ]
  },
  {
   "cell_type": "code",
   "execution_count": 51,
   "metadata": {},
   "outputs": [
    {
     "data": {
      "text/plain": [
       "0.0"
      ]
     },
     "execution_count": 51,
     "metadata": {},
     "output_type": "execute_result"
    }
   ],
   "source": [
    "weights_pred.sum()"
   ]
  },
  {
   "cell_type": "code",
   "execution_count": 51,
   "metadata": {},
   "outputs": [
    {
     "data": {
      "image/png": "[encoded data removed]",
      "text/plain": [
       "<Figure size 432x288 with 1 Axes>"
      ]
     },
     "metadata": {},
     "output_type": "display_data"
    }
   ],
   "source": [
    "### ------------------- Parameters to Vary ------------------- ###\n",
    "\n",
    "# lambda: number of people that a susceptible person interacts with per time step\n",
    "# p: probability of getting infected if a susceptible person interacts with an infectious person\n",
    "# gamma: recovery rate (recovery probability within one time step)\n",
    "gamma = 1./14 # set lam = 2 vs 20, p = 0.3, gamma = 1/14\n",
    "\n",
    "### ------------------- Fixed Parameters ------------------- ###\n",
    "\n",
    "# Total population.\n",
    "N = 300000000\n",
    "\n",
    "# A grid of time points (in days) for the detecting period\n",
    "t_set = np.linspace(0, 365, 366)\n",
    "\n",
    "# Initial number of infected and immune individuals, I0 and R0.\n",
    "I0, R0 = 10, 0\n",
    "\n",
    "# Everyone else, S0, is susceptible to infection initially.\n",
    "S0 = N - I0 - R0\n",
    "\n",
    "# The SIR model differential equations.\n",
    "def deriv_dynamic(y, t, N, beta, gamma):\n",
    "    S, I, R = y\n",
    "    dSdt = -beta(t) * S * I / N\n",
    "    dIdt = beta(t) * S * I / N - gamma * I\n",
    "    dRdt = gamma * I\n",
    "    return dSdt, dIdt, dRdt\n",
    "\n",
    "x = np.linspace(0, 367, 368)\n",
    "\n",
    "def random_beta(t):\n",
    "        \n",
    "    if t < 36:\n",
    "        return r0_pred[0]\n",
    "    if 36 <= t < 72:\n",
    "        return r0_pred[1]\n",
    "    if 72 <= t < 108:\n",
    "        return r0_pred[2]\n",
    "    if 108 <= t < 144:\n",
    "        return r0_pred[3]\n",
    "    if 144 <= t < 180:\n",
    "        return r0_pred[4]\n",
    "    if 180 <= t < 216:\n",
    "        return r0_pred[5]\n",
    "    if 216 <= t < 248:\n",
    "        return r0_pred[6]\n",
    "    if 248 <= t < 284:\n",
    "        return r0_pred[7]\n",
    "    if 284 <= t < 320:\n",
    "        return r0_pred[8]\n",
    "    if t > 320:\n",
    "        return r0_pred[9]\n",
    "\n",
    "### ----------------- Dynamic Parameters ----------------- ###\n",
    "\n",
    "# Initial conditions vector\n",
    "y0 = S0, I0, R0\n",
    "# Integrate the SIR equations over the time grid, t.\n",
    "ret = odeint(deriv_dynamic, y0, t_set, args=(N, random_beta, gamma))\n",
    "S_pred, I_pred, R_pred = ret.T\n",
    "\n",
    "# Plot the data on three separate curves for S(t), I(t) and R(t)\n",
    "fig = plt.figure(facecolor='w')\n",
    "ax = fig.add_subplot(111, facecolor='#dddddd', axisbelow=True)\n",
    "ax.plot(t_set, S_pred/N, 'b', alpha=0.5, lw=2, label='Susceptible')\n",
    "ax.plot(t_set, I_pred/N, 'r', alpha=0.5, lw=2, label='Infected')\n",
    "ax.plot(t_set, R_pred/N, 'g', alpha=0.5, lw=2, label='Recovered/Removed')\n",
    "ax.set_xlabel('Time /days')\n",
    "ax.set_ylabel('Percentage of Population')\n",
    "ax.set_ylim(0,1.2)\n",
    "ax.yaxis.set_tick_params(length=0)\n",
    "ax.xaxis.set_tick_params(length=0)\n",
    "ax.grid(b=True, which='major', c='w', lw=2, ls='-')\n",
    "legend = ax.legend()\n",
    "legend.get_frame().set_alpha(0.5)\n",
    "for spine in ('top', 'right', 'bottom', 'left'):\n",
    "    ax.spines[spine].set_visible(False)\n",
    "plt.show()"
   ]
  },
  {
   "cell_type": "code",
   "execution_count": 52,
   "metadata": {},
   "outputs": [
    {
     "data": {
      "image/png": "[encoded data removed]",
      "text/plain": [
       "<Figure size 432x288 with 1 Axes>"
      ]
     },
     "metadata": {
      "needs_background": "light"
     },
     "output_type": "display_data"
    }
   ],
   "source": [
    "fig, ax = plt.subplots()\n",
    "\n",
    "ax.plot(list(range(366)), I_pred, label=\"I_pred\", alpha=0.5)\n",
    "ax.plot(list(range(366)), I_syn, label=\"I_true\", alpha=0.5)\n",
    "plt.legend()\n",
    "plt.show()"
   ]
  },
  {
   "cell_type": "code",
   "execution_count": 14,
   "metadata": {},
   "outputs": [
    {
     "name": "stdout",
     "output_type": "stream",
     "text": [
      "(32,)\n",
      "(32, 32)\n",
      "(32,)\n"
     ]
    }
   ],
   "source": [
    "weights = np.random.randint(5, size=(1088,))\n",
    "w1 = weights[:32]\n",
    "w2 = weights[32:1056].reshape((32, 32))\n",
    "w3 = weights[1056:]\n",
    "\n",
    "print(w1.shape)\n",
    "print(w2.shape)\n",
    "print(w3.shape)"
   ]
  },
  {
   "cell_type": "code",
   "execution_count": 16,
   "metadata": {},
   "outputs": [
    {
     "name": "stdout",
     "output_type": "stream",
     "text": [
      "1298400\n"
     ]
    }
   ],
   "source": [
    "input = 150\n",
    "\n",
    "out = np.dot(w1, input)\n",
    "out = np.dot(w2, out)\n",
    "out = np.dot(w3, out)\n",
    "print(out)"
   ]
  }
 ],
 "metadata": {
  "interpreter": {
   "hash": "8ab0d968002a578cf1e1aa041721a175249ba338f6da29efa5ef1a380c630376"
  },
  "kernelspec": {
   "display_name": "Python 3.7.11 ('base')",
   "language": "python",
   "name": "python3"
  },
  "language_info": {
   "codemirror_mode": {
    "name": "ipython",
    "version": 3
   },
   "file_extension": ".py",
   "mimetype": "text/x-python",
   "name": "python",
   "nbconvert_exporter": "python",
   "pygments_lexer": "ipython3",
   "version": "3.7.11"
  },
  "orig_nbformat": 4
 },
 "nbformat": 4,
 "nbformat_minor": 2
}
